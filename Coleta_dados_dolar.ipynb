{
 "cells": [
  {
   "cell_type": "code",
   "execution_count": 43,
   "id": "1afac103",
   "metadata": {},
   "outputs": [],
   "source": [
    "### Import das bibliotecas necessarias\n",
    "import pandas as pd\n",
    "#import pyodbc\n",
    "from sqlalchemy import create_engine"
   ]
  },
  {
   "cell_type": "code",
   "execution_count": 44,
   "id": "33e0dc9a",
   "metadata": {},
   "outputs": [
    {
     "name": "stdout",
     "output_type": "stream",
     "text": [
      "Conectado com sucesso!\n"
     ]
    }
   ],
   "source": [
    "# Conexão com o banco de dados\n",
    "try:\n",
    "    server_name = 'DESKTOP-IBC02BG'\n",
    "    database_name = 'dbProjetoImpacta'\n",
    "    conn_str = f'mssql+pyodbc://{server_name}/{database_name}?driver=ODBC+Driver+17+for+SQL+Server'\n",
    "    engine = create_engine(conn_str)\n",
    "    print('Conectado com sucesso!')\n",
    "    \n",
    "except Exception as e:\n",
    "    print(f\"Ocorreu um erro: {e}\")"
   ]
  },
  {
   "cell_type": "code",
   "execution_count": 45,
   "id": "f4c3a105",
   "metadata": {},
   "outputs": [],
   "source": [
    "# API banco central cotação dolar\n",
    "path = \"https://olinda.bcb.gov.br/olinda/servico/PTAX/versao/v1/odata/CotacaoDolarPeriodo(dataInicial=@dataInicial,dataFinalCotacao=@dataFinalCotacao)?@dataInicial='01-01-2020'&@dataFinalCotacao='12-31-2025'&$top=9000&$format=text/csv&$select=cotacaoCompra,cotacaoVenda,dataHoraCotacao\"\n",
    "# Leitura dos dados e criação do dataframe\n",
    "tabela = pd.read_csv(path)\n",
    "# Renomeando as colunas do dataframe\n",
    "tabela = tabela.rename(columns={'cotacaoCompra': 'Cotacao de Compra','cotacaoVenda':'Cotacao de Venda','dataHoraCotacao':'Data e Hora da Cotacao'})\n",
    "# Separando a tabela data e hora em duas tabelas\n",
    "tabela[['Data', 'Hora']] = tabela['Data e Hora da Cotacao'].str.split(' ', 1, expand=True)\n",
    "# Apagando a coluna com data e hora juntos\n",
    "tabela.drop(columns=['Data e Hora da Cotacao'], inplace=True)\n",
    "tabela.drop(columns=['Hora'], inplace=True)"
   ]
  },
  {
   "cell_type": "code",
   "execution_count": 46,
   "id": "fa59088d",
   "metadata": {},
   "outputs": [
    {
     "data": {
      "text/html": [
       "<div>\n",
       "<style scoped>\n",
       "    .dataframe tbody tr th:only-of-type {\n",
       "        vertical-align: middle;\n",
       "    }\n",
       "\n",
       "    .dataframe tbody tr th {\n",
       "        vertical-align: top;\n",
       "    }\n",
       "\n",
       "    .dataframe thead th {\n",
       "        text-align: right;\n",
       "    }\n",
       "</style>\n",
       "<table border=\"1\" class=\"dataframe\">\n",
       "  <thead>\n",
       "    <tr style=\"text-align: right;\">\n",
       "      <th></th>\n",
       "      <th>Cotacao de Compra</th>\n",
       "      <th>Cotacao de Venda</th>\n",
       "      <th>Data</th>\n",
       "    </tr>\n",
       "  </thead>\n",
       "  <tbody>\n",
       "    <tr>\n",
       "      <th>0</th>\n",
       "      <td>4.0207</td>\n",
       "      <td>4.0213</td>\n",
       "      <td>2020-01-02</td>\n",
       "    </tr>\n",
       "    <tr>\n",
       "      <th>1</th>\n",
       "      <td>4.0516</td>\n",
       "      <td>4.0522</td>\n",
       "      <td>2020-01-03</td>\n",
       "    </tr>\n",
       "    <tr>\n",
       "      <th>2</th>\n",
       "      <td>4.0548</td>\n",
       "      <td>4.0554</td>\n",
       "      <td>2020-01-06</td>\n",
       "    </tr>\n",
       "    <tr>\n",
       "      <th>3</th>\n",
       "      <td>4.0835</td>\n",
       "      <td>4.0841</td>\n",
       "      <td>2020-01-07</td>\n",
       "    </tr>\n",
       "    <tr>\n",
       "      <th>4</th>\n",
       "      <td>4.0666</td>\n",
       "      <td>4.0672</td>\n",
       "      <td>2020-01-08</td>\n",
       "    </tr>\n",
       "    <tr>\n",
       "      <th>...</th>\n",
       "      <td>...</td>\n",
       "      <td>...</td>\n",
       "      <td>...</td>\n",
       "    </tr>\n",
       "    <tr>\n",
       "      <th>821</th>\n",
       "      <td>5.0828</td>\n",
       "      <td>5.0834</td>\n",
       "      <td>2023-04-10</td>\n",
       "    </tr>\n",
       "    <tr>\n",
       "      <th>822</th>\n",
       "      <td>5.0122</td>\n",
       "      <td>5.0128</td>\n",
       "      <td>2023-04-11</td>\n",
       "    </tr>\n",
       "    <tr>\n",
       "      <th>823</th>\n",
       "      <td>4.9490</td>\n",
       "      <td>4.9496</td>\n",
       "      <td>2023-04-12</td>\n",
       "    </tr>\n",
       "    <tr>\n",
       "      <th>824</th>\n",
       "      <td>4.9091</td>\n",
       "      <td>4.9097</td>\n",
       "      <td>2023-04-13</td>\n",
       "    </tr>\n",
       "    <tr>\n",
       "      <th>825</th>\n",
       "      <td>4.9449</td>\n",
       "      <td>4.9455</td>\n",
       "      <td>2023-04-14</td>\n",
       "    </tr>\n",
       "  </tbody>\n",
       "</table>\n",
       "<p>826 rows × 3 columns</p>\n",
       "</div>"
      ],
      "text/plain": [
       "     Cotacao de Compra  Cotacao de Venda       Data\n",
       "0               4.0207            4.0213 2020-01-02\n",
       "1               4.0516            4.0522 2020-01-03\n",
       "2               4.0548            4.0554 2020-01-06\n",
       "3               4.0835            4.0841 2020-01-07\n",
       "4               4.0666            4.0672 2020-01-08\n",
       "..                 ...               ...        ...\n",
       "821             5.0828            5.0834 2023-04-10\n",
       "822             5.0122            5.0128 2023-04-11\n",
       "823             4.9490            4.9496 2023-04-12\n",
       "824             4.9091            4.9097 2023-04-13\n",
       "825             4.9449            4.9455 2023-04-14\n",
       "\n",
       "[826 rows x 3 columns]"
      ]
     },
     "metadata": {},
     "output_type": "display_data"
    }
   ],
   "source": [
    "# Converter os tipos e organizar os dados das colunas \n",
    "\n",
    "tabela['Cotacao de Compra'] = tabela['Cotacao de Compra'].astype(str).str.replace(',', '.').astype(float)\n",
    "tabela['Cotacao de Venda'] = tabela['Cotacao de Venda'].astype(str).str.replace(',', '.').astype(float)\n",
    "tabela['Data'] = pd.to_datetime(tabela['Data'], format='%Y-%m-%d')\n",
    "tabela['Data'] = tabela['Data'].dt.strftime('%Y-%m-%d')\n",
    "\n",
    "tabela['Data'] = pd.to_datetime(tabela['Data'])\n",
    "\n",
    "\n",
    "\n",
    "\n",
    "display(tabela)"
   ]
  },
  {
   "cell_type": "code",
   "execution_count": 47,
   "id": "5722a355",
   "metadata": {},
   "outputs": [
    {
     "name": "stdout",
     "output_type": "stream",
     "text": [
      "Cotacao de Compra           float64\n",
      "Cotacao de Venda            float64\n",
      "Data                 datetime64[ns]\n",
      "dtype: object\n"
     ]
    }
   ],
   "source": [
    "print(tabela.dtypes)"
   ]
  },
  {
   "cell_type": "code",
   "execution_count": 48,
   "id": "707c8f58",
   "metadata": {},
   "outputs": [
    {
     "name": "stdout",
     "output_type": "stream",
     "text": [
      "Dados gravados no banco de dados...\n"
     ]
    }
   ],
   "source": [
    "try:\n",
    "    # Salvando o DataFrame no banco de dados MySQL\n",
    "    tabela.to_sql('cotacao', con=engine, if_exists='replace', index=False)\n",
    "    print('Dados gravados no banco de dados...')\n",
    "\n",
    "\n",
    "except Exception as e:\n",
    "    print(f\"Ocorreu um erro: {e}\")"
   ]
  },
  {
   "cell_type": "code",
   "execution_count": 49,
   "id": "292292e1",
   "metadata": {},
   "outputs": [
    {
     "name": "stdout",
     "output_type": "stream",
     "text": [
      "O número de linhas na tabela é: 826\n"
     ]
    }
   ],
   "source": [
    "# Executa a consulta SQL para contar as linhas da tabela\n",
    "result = engine.execute('SELECT COUNT(*) FROM cotacao')\n",
    "count = result.fetchone()[0]\n",
    "\n",
    "print(f'O número de linhas na tabela é: {count}')"
   ]
  },
  {
   "cell_type": "code",
   "execution_count": 50,
   "id": "36344755",
   "metadata": {},
   "outputs": [],
   "source": [
    "# Fechando a conexão com o banco de dados\n",
    "engine.dispose()"
   ]
  },
  {
   "cell_type": "code",
   "execution_count": null,
   "id": "097c6d83",
   "metadata": {},
   "outputs": [],
   "source": []
  }
 ],
 "metadata": {
  "kernelspec": {
   "display_name": "Python 3 (ipykernel)",
   "language": "python",
   "name": "python3"
  },
  "language_info": {
   "codemirror_mode": {
    "name": "ipython",
    "version": 3
   },
   "file_extension": ".py",
   "mimetype": "text/x-python",
   "name": "python",
   "nbconvert_exporter": "python",
   "pygments_lexer": "ipython3",
   "version": "3.9.12"
  }
 },
 "nbformat": 4,
 "nbformat_minor": 5
}
