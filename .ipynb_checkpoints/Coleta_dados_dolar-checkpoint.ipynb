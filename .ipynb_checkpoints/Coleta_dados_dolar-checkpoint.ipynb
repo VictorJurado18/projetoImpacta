{
 "cells": [
  {
   "cell_type": "code",
   "execution_count": 4,
   "id": "1afac103",
   "metadata": {},
   "outputs": [],
   "source": [
    "### Import das bibliotecas necessarias\n",
    "import pandas as pd\n",
    "#import pyodbc\n",
    "from sqlalchemy import create_engine"
   ]
  },
  {
   "cell_type": "code",
   "execution_count": 5,
   "id": "33e0dc9a",
   "metadata": {},
   "outputs": [
    {
     "name": "stdout",
     "output_type": "stream",
     "text": [
      "Conectado com sucesso!\n"
     ]
    }
   ],
   "source": [
    "# Conexão com o banco de dados\n",
    "try:\n",
    "    server_name = 'DESKTOP-IBC02BG'\n",
    "    database_name = 'dbProjetoImpacta'\n",
    "    conn_str = f'mssql+pyodbc://{server_name}/{database_name}?driver=ODBC+Driver+17+for+SQL+Server'\n",
    "    engine = create_engine(conn_str)\n",
    "    print('Conectado com sucesso!')\n",
    "    \n",
    "except Exception as e:\n",
    "    print(f\"Ocorreu um erro: {e}\")"
   ]
  },
  {
   "cell_type": "code",
   "execution_count": 7,
   "id": "f4c3a105",
   "metadata": {},
   "outputs": [],
   "source": [
    "# API banco central cotação dolar\n",
    "path = \"https://olinda.bcb.gov.br/olinda/servico/PTAX/versao/v1/odata/CotacaoDolarPeriodo(dataInicial=@dataInicial,dataFinalCotacao=@dataFinalCotacao)?@dataInicial='01-01-2019'&@dataFinalCotacao='12-31-2025'&$top=9000&$format=text/csv&$select=cotacaoCompra,cotacaoVenda,dataHoraCotacao\"\n",
    "# Leitura dos dados e criação do dataframe\n",
    "tabela = pd.read_csv(path)\n",
    "# Renomeando as colunas do dataframe\n",
    "tabela = tabela.rename(columns={'cotacaoCompra': 'Cotacao de Compra','cotacaoVenda':'Cotacao de Venda','dataHoraCotacao':'Data e Hora da Cotacao'})\n",
    "# Separando a tabela data e hora em duas tabelas\n",
    "tabela[['Data', 'Hora']] = tabela['Data e Hora da Cotacao'].str.split(' ', 1, expand=True)\n",
    "# Apagando a coluna com data e hora juntos\n",
    "tabela.drop(columns=['Data e Hora da Cotacao'], inplace=True)"
   ]
  },
  {
   "cell_type": "code",
   "execution_count": 12,
   "id": "fa59088d",
   "metadata": {},
   "outputs": [
    {
     "data": {
      "text/html": [
       "<div>\n",
       "<style scoped>\n",
       "    .dataframe tbody tr th:only-of-type {\n",
       "        vertical-align: middle;\n",
       "    }\n",
       "\n",
       "    .dataframe tbody tr th {\n",
       "        vertical-align: top;\n",
       "    }\n",
       "\n",
       "    .dataframe thead th {\n",
       "        text-align: right;\n",
       "    }\n",
       "</style>\n",
       "<table border=\"1\" class=\"dataframe\">\n",
       "  <thead>\n",
       "    <tr style=\"text-align: right;\">\n",
       "      <th></th>\n",
       "      <th>Cotacao de Compra</th>\n",
       "      <th>Cotacao de Venda</th>\n",
       "      <th>Data</th>\n",
       "      <th>Hora</th>\n",
       "    </tr>\n",
       "  </thead>\n",
       "  <tbody>\n",
       "    <tr>\n",
       "      <th>0</th>\n",
       "      <td>3.8589</td>\n",
       "      <td>3.8595</td>\n",
       "      <td>2019-01-02</td>\n",
       "      <td>13:04:46.568000</td>\n",
       "    </tr>\n",
       "    <tr>\n",
       "      <th>1</th>\n",
       "      <td>3.7677</td>\n",
       "      <td>3.7683</td>\n",
       "      <td>2019-01-03</td>\n",
       "      <td>13:04:50.817000</td>\n",
       "    </tr>\n",
       "    <tr>\n",
       "      <th>2</th>\n",
       "      <td>3.7621</td>\n",
       "      <td>3.7627</td>\n",
       "      <td>2019-01-04</td>\n",
       "      <td>13:06:29.332000</td>\n",
       "    </tr>\n",
       "    <tr>\n",
       "      <th>3</th>\n",
       "      <td>3.7056</td>\n",
       "      <td>3.7062</td>\n",
       "      <td>2019-01-07</td>\n",
       "      <td>13:09:39.652000</td>\n",
       "    </tr>\n",
       "    <tr>\n",
       "      <th>4</th>\n",
       "      <td>3.7202</td>\n",
       "      <td>3.7208</td>\n",
       "      <td>2019-01-08</td>\n",
       "      <td>13:09:06.450000</td>\n",
       "    </tr>\n",
       "    <tr>\n",
       "      <th>...</th>\n",
       "      <td>...</td>\n",
       "      <td>...</td>\n",
       "      <td>...</td>\n",
       "      <td>...</td>\n",
       "    </tr>\n",
       "    <tr>\n",
       "      <th>1068</th>\n",
       "      <td>5.1248</td>\n",
       "      <td>5.1254</td>\n",
       "      <td>2023-03-30</td>\n",
       "      <td>13:11:18.582000</td>\n",
       "    </tr>\n",
       "    <tr>\n",
       "      <th>1069</th>\n",
       "      <td>5.0798</td>\n",
       "      <td>5.0804</td>\n",
       "      <td>2023-03-31</td>\n",
       "      <td>13:03:22.571000</td>\n",
       "    </tr>\n",
       "    <tr>\n",
       "      <th>1070</th>\n",
       "      <td>5.0631</td>\n",
       "      <td>5.0637</td>\n",
       "      <td>2023-04-03</td>\n",
       "      <td>13:04:18.827000</td>\n",
       "    </tr>\n",
       "    <tr>\n",
       "      <th>1071</th>\n",
       "      <td>5.0756</td>\n",
       "      <td>5.0762</td>\n",
       "      <td>2023-04-04</td>\n",
       "      <td>13:04:34.464000</td>\n",
       "    </tr>\n",
       "    <tr>\n",
       "      <th>1072</th>\n",
       "      <td>5.0441</td>\n",
       "      <td>5.0447</td>\n",
       "      <td>2023-04-05</td>\n",
       "      <td>13:05:17.533000</td>\n",
       "    </tr>\n",
       "  </tbody>\n",
       "</table>\n",
       "<p>1073 rows × 4 columns</p>\n",
       "</div>"
      ],
      "text/plain": [
       "      Cotacao de Compra  Cotacao de Venda        Data             Hora\n",
       "0                3.8589            3.8595  2019-01-02  13:04:46.568000\n",
       "1                3.7677            3.7683  2019-01-03  13:04:50.817000\n",
       "2                3.7621            3.7627  2019-01-04  13:06:29.332000\n",
       "3                3.7056            3.7062  2019-01-07  13:09:39.652000\n",
       "4                3.7202            3.7208  2019-01-08  13:09:06.450000\n",
       "...                 ...               ...         ...              ...\n",
       "1068             5.1248            5.1254  2023-03-30  13:11:18.582000\n",
       "1069             5.0798            5.0804  2023-03-31  13:03:22.571000\n",
       "1070             5.0631            5.0637  2023-04-03  13:04:18.827000\n",
       "1071             5.0756            5.0762  2023-04-04  13:04:34.464000\n",
       "1072             5.0441            5.0447  2023-04-05  13:05:17.533000\n",
       "\n",
       "[1073 rows x 4 columns]"
      ]
     },
     "metadata": {},
     "output_type": "display_data"
    }
   ],
   "source": [
    "# Converter os tipos e organizar os dados das colunas \n",
    "\n",
    "tabela['Cotacao de Compra'] = tabela['Cotacao de Compra'].astype(str).str.replace(',', '.').astype(float)\n",
    "tabela['Cotacao de Venda'] = tabela['Cotacao de Venda'].astype(str).str.replace(',', '.').astype(float)\n",
    "tabela['Data'] = pd.to_datetime(tabela['Data'], format='%Y-%m-%d')\n",
    "tabela['Data'] = tabela['Data'].dt.strftime('%Y-%m-%d')\n",
    "#tabela['Hora'] = pd.to_datetime(tabela['Hora'], format='%H:%M:%S.%f').dt.time\n",
    "#tabela['Hora'] = pd.to_datetime(tabela['Hora'], format='%H:%M:%S.%f', errors='coerce')\n",
    "tabela['Hora'] = pd.to_datetime(tabela['Hora'], format='%H:%M:%S.%f').dt.time\n",
    "\n",
    "display(tabela)"
   ]
  },
  {
   "cell_type": "code",
   "execution_count": 10,
   "id": "5722a355",
   "metadata": {},
   "outputs": [
    {
     "name": "stdout",
     "output_type": "stream",
     "text": [
      "Cotacao de Compra    object\n",
      "Cotacao de Venda     object\n",
      "Data                 object\n",
      "Hora                 object\n",
      "dtype: object\n"
     ]
    }
   ],
   "source": [
    "print(tabela.dtypes)"
   ]
  },
  {
   "cell_type": "code",
   "execution_count": 42,
   "id": "707c8f58",
   "metadata": {},
   "outputs": [
    {
     "name": "stdout",
     "output_type": "stream",
     "text": [
      "Dados gravados no banco de dados...\n"
     ]
    }
   ],
   "source": [
    "try:\n",
    "    # Salvando o DataFrame no banco de dados MySQL\n",
    "    tabela.to_sql('cotacao', con=engine, if_exists='replace', index=False)\n",
    "    print('Dados gravados no banco de dados...')\n",
    "\n",
    "\n",
    "except Exception as e:\n",
    "    print(f\"Ocorreu um erro: {e}\")"
   ]
  },
  {
   "cell_type": "code",
   "execution_count": 6,
   "id": "292292e1",
   "metadata": {},
   "outputs": [
    {
     "name": "stdout",
     "output_type": "stream",
     "text": [
      "O número de linhas na tabela é: 1071\n"
     ]
    }
   ],
   "source": [
    "# Executa a consulta SQL para contar as linhas da tabela\n",
    "result = engine.execute('SELECT COUNT(*) FROM cotacao')\n",
    "count = result.fetchone()[0]\n",
    "\n",
    "print(f'O número de linhas na tabela é: {count}')"
   ]
  },
  {
   "cell_type": "code",
   "execution_count": 109,
   "id": "36344755",
   "metadata": {},
   "outputs": [],
   "source": [
    "# Fechando a conexão com o banco de dados\n",
    "engine.dispose()"
   ]
  }
 ],
 "metadata": {
  "kernelspec": {
   "display_name": "Python 3 (ipykernel)",
   "language": "python",
   "name": "python3"
  },
  "language_info": {
   "codemirror_mode": {
    "name": "ipython",
    "version": 3
   },
   "file_extension": ".py",
   "mimetype": "text/x-python",
   "name": "python",
   "nbconvert_exporter": "python",
   "pygments_lexer": "ipython3",
   "version": "3.9.12"
  }
 },
 "nbformat": 4,
 "nbformat_minor": 5
}
