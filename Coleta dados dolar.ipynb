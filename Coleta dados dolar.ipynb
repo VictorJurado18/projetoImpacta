{
 "cells": [
  {
   "cell_type": "code",
   "execution_count": 100,
   "id": "1afac103",
   "metadata": {},
   "outputs": [],
   "source": [
    "### Import das bibliotecas necessarias\n",
    "import pandas as pd\n",
    "from sqlalchemy import create_engine"
   ]
  },
  {
   "cell_type": "code",
   "execution_count": 101,
   "id": "da8ce4b6",
   "metadata": {},
   "outputs": [
    {
     "name": "stdout",
     "output_type": "stream",
     "text": [
      "Conectado ao banco de dados...\n"
     ]
    }
   ],
   "source": [
    "try:\n",
    "\t# Criando a string de conexão\n",
    "    user = \"root\"\n",
    "    password = \"admin123\"\n",
    "    host = \"localhost\"\n",
    "    database = \"dbprojetoimpacta\"\n",
    "    connection_string = f\"mysql+mysqlconnector://{user}:{password}@{host}/{database}\"\n",
    "\n",
    "    # Crie a conexão com o banco de dados usando SQLAlchemy\n",
    "    engine = create_engine(connection_string)\n",
    "    print('Conectado ao banco de dados...')\n",
    "\n",
    "except Exception as e:\n",
    "    print(f\"Ocorreu um erro: {e}\")"
   ]
  },
  {
   "cell_type": "code",
   "execution_count": 102,
   "id": "f4c3a105",
   "metadata": {},
   "outputs": [],
   "source": [
    "# API banco central cotação dolar\n",
    "path = \"https://olinda.bcb.gov.br/olinda/servico/PTAX/versao/v1/odata/CotacaoDolarPeriodo(dataInicial=@dataInicial,dataFinalCotacao=@dataFinalCotacao)?@dataInicial='01-01-2019'&@dataFinalCotacao='12-31-2025'&$top=9000&$format=text/csv&$select=cotacaoCompra,cotacaoVenda,dataHoraCotacao\"\n",
    "# Leitura dos dados e criação do dataframe\n",
    "tabela = pd.read_csv(path)\n",
    "# Renomeando as colunas do dataframe\n",
    "tabela = tabela.rename(columns={'cotacaoCompra': 'Cotacao de Compra','cotacaoVenda':'Cotacao de Venda','dataHoraCotacao':'Data e Hora da Cotacao'})\n",
    "# Separando a tabela data e hora em duas tabelas\n",
    "tabela[['Data', 'Hora']] = tabela['Data e Hora da Cotacao'].str.split(' ', 1, expand=True)\n",
    "# Apagando a coluna com data e hora juntos\n",
    "tabela.drop(columns=['Data e Hora da Cotacao'], inplace=True)"
   ]
  },
  {
   "cell_type": "code",
   "execution_count": 103,
   "id": "fa59088d",
   "metadata": {},
   "outputs": [
    {
     "name": "stdout",
     "output_type": "stream",
     "text": [
      "Empty DataFrame\n",
      "Columns: [Cotacao de Compra, Cotacao de Venda, Data, Hora]\n",
      "Index: []\n"
     ]
    }
   ],
   "source": [
    "# Converter os tipos e organizar os dados das colunas \n",
    "\n",
    "tabela['Cotacao de Compra'] = tabela['Cotacao de Compra'].astype(str).str.replace(',', '.').astype(float)\n",
    "tabela['Cotacao de Venda'] = tabela['Cotacao de Venda'].astype(str).str.replace(',', '.').astype(float)\n",
    "tabela['Data'] = pd.to_datetime(tabela['Data'], format='%Y-%m-%d')\n",
    "tabela['Hora'] = pd.to_datetime(tabela['Hora'], format='%H:%M:%S.%f').dt.time\n",
    "tabela['Hora'] = pd.to_datetime(tabela['Hora'], format='%H:%M:%S.%f', errors='coerce')\n",
    "print(tabela[tabela['Hora'].isna()])\n"
   ]
  },
  {
   "cell_type": "code",
   "execution_count": 104,
   "id": "5722a355",
   "metadata": {},
   "outputs": [
    {
     "name": "stdout",
     "output_type": "stream",
     "text": [
      "Cotacao de Compra           float64\n",
      "Cotacao de Venda            float64\n",
      "Data                 datetime64[ns]\n",
      "Hora                 datetime64[ns]\n",
      "dtype: object\n"
     ]
    }
   ],
   "source": [
    "print(tabela.dtypes)"
   ]
  },
  {
   "cell_type": "code",
   "execution_count": 105,
   "id": "707c8f58",
   "metadata": {},
   "outputs": [
    {
     "name": "stdout",
     "output_type": "stream",
     "text": [
      "Dados gravados no banco de dados...\n"
     ]
    }
   ],
   "source": [
    "try:\n",
    "    # Salvando o DataFrame no banco de dados MySQL\n",
    "    tabela.to_sql(name='cotacoes', con=engine, if_exists='replace', index=False)\n",
    "    print('Dados gravados no banco de dados...')\n",
    "\n",
    "\n",
    "except Exception as e:\n",
    "    print(f\"Ocorreu um erro: {e}\")"
   ]
  },
  {
   "cell_type": "code",
   "execution_count": 108,
   "id": "292292e1",
   "metadata": {},
   "outputs": [
    {
     "name": "stdout",
     "output_type": "stream",
     "text": [
      "O número de linhas na tabela é: 1070\n"
     ]
    }
   ],
   "source": [
    "# Executa a consulta SQL para contar as linhas da tabela\n",
    "result = engine.execute('SELECT COUNT(*) FROM cotacoes')\n",
    "count = result.fetchone()[0]\n",
    "\n",
    "print(f'O número de linhas na tabela é: {count}')"
   ]
  },
  {
   "cell_type": "code",
   "execution_count": 109,
   "id": "36344755",
   "metadata": {},
   "outputs": [],
   "source": [
    "# Fechando a conexão com o banco de dados\n",
    "engine.dispose()"
   ]
  }
 ],
 "metadata": {
  "kernelspec": {
   "display_name": "Python 3 (ipykernel)",
   "language": "python",
   "name": "python3"
  },
  "language_info": {
   "codemirror_mode": {
    "name": "ipython",
    "version": 3
   },
   "file_extension": ".py",
   "mimetype": "text/x-python",
   "name": "python",
   "nbconvert_exporter": "python",
   "pygments_lexer": "ipython3",
   "version": "3.9.12"
  }
 },
 "nbformat": 4,
 "nbformat_minor": 5
}
